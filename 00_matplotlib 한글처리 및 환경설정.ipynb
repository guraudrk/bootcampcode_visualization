{
 "cells": [
  {
   "cell_type": "code",
   "execution_count": 1,
   "metadata": {},
   "outputs": [
    {
     "name": "stdout",
     "output_type": "stream",
     "text": [
      "Requirement already satisfied: matplotlib in c:\\users\\user\\anaconda3\\lib\\site-packages (3.3.4)\n",
      "Requirement already satisfied: python-dateutil>=2.1 in c:\\users\\user\\anaconda3\\lib\\site-packages (from matplotlib) (2.8.1)\n",
      "Requirement already satisfied: numpy>=1.15 in c:\\users\\user\\anaconda3\\lib\\site-packages (from matplotlib) (1.20.1)\n",
      "Requirement already satisfied: kiwisolver>=1.0.1 in c:\\users\\user\\anaconda3\\lib\\site-packages (from matplotlib) (1.3.1)\n",
      "Requirement already satisfied: pyparsing!=2.0.4,!=2.1.2,!=2.1.6,>=2.0.3 in c:\\users\\user\\anaconda3\\lib\\site-packages (from matplotlib) (2.4.7)\n",
      "Requirement already satisfied: pillow>=6.2.0 in c:\\users\\user\\anaconda3\\lib\\site-packages (from matplotlib) (8.2.0)\n",
      "Requirement already satisfied: cycler>=0.10 in c:\\users\\user\\anaconda3\\lib\\site-packages (from matplotlib) (0.10.0)\n",
      "Requirement already satisfied: six in c:\\users\\user\\anaconda3\\lib\\site-packages (from cycler>=0.10->matplotlib) (1.15.0)\n",
      "Note: you may need to restart the kernel to use updated packages.\n"
     ]
    }
   ],
   "source": [
    "pip install matplotlib"
   ]
  },
  {
   "cell_type": "markdown",
   "metadata": {},
   "source": [
    "# matplotlib 한글처리\n",
    "matplotlib에 설정되있는 폰트가 한글을 지원하지 않기 때문에 그래프의 한글이 깨져서 나온다."
   ]
  },
  {
   "cell_type": "code",
   "execution_count": 1,
   "metadata": {
    "ExecuteTime": {
     "end_time": "2020-08-15T14:11:37.991800Z",
     "start_time": "2020-08-15T14:11:37.828240Z"
    },
    "scrolled": true
   },
   "outputs": [
    {
     "data": {
      "image/png": "[encoded data removed]",
      "text/plain": [
       "<Figure size 432x288 with 1 Axes>"
      ]
     },
     "metadata": {
      "needs_background": "light"
     },
     "output_type": "display_data"
    }
   ],
   "source": [
    "import matplotlib.pyplot as plt\n",
    "plt.plot(range(-10,10))\n",
    "plt.xlabel(\"X값\")\n",
    "plt.ylabel(\"Y값\")\n",
    "plt.title('matplotlib 예제')\n",
    "plt.show()\n",
    "#한글이 깨지는 예시이다.\n",
    "#만약 경고문이 뜬다면, 그것은 '한글이 깨지고 있어요'라는 문구이다."
   ]
  },
  {
   "cell_type": "markdown",
   "metadata": {},
   "source": [
    "## 설정방법\n",
    "1. 설정파일을 변경한다. (코드와 관계없이 존재하는 설정 파일이 있다.)\n",
    "    - 한번만 하면 된다.\n",
    "2. 프로그램상에서 변경한다.\n",
    "    - 프로그램이 로딩 될때마다 (노트북 파일이나 파이썬 스크립트 실행시마다) 코드를 실행해야 한다.\n",
    "    - 전체 설정에서 변경하고 싶은 것을 재설정한다."
   ]
  },
  {
   "cell_type": "markdown",
   "metadata": {},
   "source": [
    "## OS에 설치된 폰트명 조회"
   ]
  },
  {
   "cell_type": "code",
   "execution_count": 2,
   "metadata": {
    "ExecuteTime": {
     "end_time": "2022-06-14T01:39:02.301627Z",
     "start_time": "2022-06-14T01:39:01.711133Z"
    }
   },
   "outputs": [],
   "source": [
    "import matplotlib as mpl\n",
    "import matplotlib.font_manager as fm"
   ]
  },
  {
   "cell_type": "markdown",
   "metadata": {},
   "source": [
    "폰트 cache 파일을 삭제 한다."
   ]
  },
  {
   "cell_type": "code",
   "execution_count": 3,
   "metadata": {
    "ExecuteTime": {
     "end_time": "2022-06-14T01:40:24.558645Z",
     "start_time": "2022-06-14T01:40:24.540678Z"
    }
   },
   "outputs": [
    {
     "name": "stdout",
     "output_type": "stream",
     "text": [
      "C:\\Users\\User\\.matplotlib\n"
     ]
    }
   ],
   "source": [
    "# cache 파일 조회\n",
    "# 다음 실행 결과로 나온 디렉토리 안의 파일을 삭제한다. \n",
    "#출력 결과로 나오는 파일의 경로로 가서, json 파일을 삭제하면 된다.\n",
    "print(mpl.get_cachedir())"
   ]
  },
  {
   "cell_type": "markdown",
   "metadata": {},
   "source": [
    "전체 폰트 조회"
   ]
  },
  {
   "cell_type": "code",
   "execution_count": 4,
   "metadata": {
    "ExecuteTime": {
     "end_time": "2022-06-14T01:40:28.369194Z",
     "start_time": "2022-06-14T01:40:28.172555Z"
    }
   },
   "outputs": [
    {
     "name": "stdout",
     "output_type": "stream",
     "text": [
      "STIXSizeOneSym-----C:\\Users\\User\\anaconda3\\lib\\site-packages\\matplotlib\\mpl-data\\fonts\\ttf\\STIXSizOneSymBol.ttf\n",
      "STIXNonUnicode-----C:\\Users\\User\\anaconda3\\lib\\site-packages\\matplotlib\\mpl-data\\fonts\\ttf\\STIXNonUni.ttf\n",
      "cmtt10-----C:\\Users\\User\\anaconda3\\lib\\site-packages\\matplotlib\\mpl-data\\fonts\\ttf\\cmtt10.ttf\n",
      "STIXSizeFourSym-----C:\\Users\\User\\anaconda3\\lib\\site-packages\\matplotlib\\mpl-data\\fonts\\ttf\\STIXSizFourSymBol.ttf\n",
      "DejaVu Serif-----C:\\Users\\User\\anaconda3\\lib\\site-packages\\matplotlib\\mpl-data\\fonts\\ttf\\DejaVuSerif-BoldItalic.ttf\n",
      "STIXNonUnicode-----C:\\Users\\User\\anaconda3\\lib\\site-packages\\matplotlib\\mpl-data\\fonts\\ttf\\STIXNonUniBolIta.ttf\n",
      "STIXSizeThreeSym-----C:\\Users\\User\\anaconda3\\lib\\site-packages\\matplotlib\\mpl-data\\fonts\\ttf\\STIXSizThreeSymBol.ttf\n",
      "cmss10-----C:\\Users\\User\\anaconda3\\lib\\site-packages\\matplotlib\\mpl-data\\fonts\\ttf\\cmss10.ttf\n",
      "DejaVu Serif-----C:\\Users\\User\\anaconda3\\lib\\site-packages\\matplotlib\\mpl-data\\fonts\\ttf\\DejaVuSerif-Italic.ttf\n",
      "cmb10-----C:\\Users\\User\\anaconda3\\lib\\site-packages\\matplotlib\\mpl-data\\fonts\\ttf\\cmb10.ttf\n",
      "STIXSizeFourSym-----C:\\Users\\User\\anaconda3\\lib\\site-packages\\matplotlib\\mpl-data\\fonts\\ttf\\STIXSizFourSymReg.ttf\n",
      "DejaVu Serif-----C:\\Users\\User\\anaconda3\\lib\\site-packages\\matplotlib\\mpl-data\\fonts\\ttf\\DejaVuSerif-Bold.ttf\n",
      "STIXGeneral-----C:\\Users\\User\\anaconda3\\lib\\site-packages\\matplotlib\\mpl-data\\fonts\\ttf\\STIXGeneralBol.ttf\n",
      "DejaVu Sans-----C:\\Users\\User\\anaconda3\\lib\\site-packages\\matplotlib\\mpl-data\\fonts\\ttf\\DejaVuSans.ttf\n",
      "DejaVu Serif-----C:\\Users\\User\\anaconda3\\lib\\site-packages\\matplotlib\\mpl-data\\fonts\\ttf\\DejaVuSerif.ttf\n",
      "DejaVu Sans-----C:\\Users\\User\\anaconda3\\lib\\site-packages\\matplotlib\\mpl-data\\fonts\\ttf\\DejaVuSans-BoldOblique.ttf\n",
      "cmmi10-----C:\\Users\\User\\anaconda3\\lib\\site-packages\\matplotlib\\mpl-data\\fonts\\ttf\\cmmi10.ttf\n",
      "DejaVu Sans Mono-----C:\\Users\\User\\anaconda3\\lib\\site-packages\\matplotlib\\mpl-data\\fonts\\ttf\\DejaVuSansMono-Bold.ttf\n",
      "STIXSizeThreeSym-----C:\\Users\\User\\anaconda3\\lib\\site-packages\\matplotlib\\mpl-data\\fonts\\ttf\\STIXSizThreeSymReg.ttf\n",
      "STIXSizeOneSym-----C:\\Users\\User\\anaconda3\\lib\\site-packages\\matplotlib\\mpl-data\\fonts\\ttf\\STIXSizOneSymReg.ttf\n",
      "DejaVu Sans Mono-----C:\\Users\\User\\anaconda3\\lib\\site-packages\\matplotlib\\mpl-data\\fonts\\ttf\\DejaVuSansMono.ttf\n",
      "STIXGeneral-----C:\\Users\\User\\anaconda3\\lib\\site-packages\\matplotlib\\mpl-data\\fonts\\ttf\\STIXGeneralItalic.ttf\n",
      "STIXSizeTwoSym-----C:\\Users\\User\\anaconda3\\lib\\site-packages\\matplotlib\\mpl-data\\fonts\\ttf\\STIXSizTwoSymBol.ttf\n",
      "DejaVu Sans-----C:\\Users\\User\\anaconda3\\lib\\site-packages\\matplotlib\\mpl-data\\fonts\\ttf\\DejaVuSans-Bold.ttf\n",
      "cmsy10-----C:\\Users\\User\\anaconda3\\lib\\site-packages\\matplotlib\\mpl-data\\fonts\\ttf\\cmsy10.ttf\n",
      "STIXSizeTwoSym-----C:\\Users\\User\\anaconda3\\lib\\site-packages\\matplotlib\\mpl-data\\fonts\\ttf\\STIXSizTwoSymReg.ttf\n",
      "STIXGeneral-----C:\\Users\\User\\anaconda3\\lib\\site-packages\\matplotlib\\mpl-data\\fonts\\ttf\\STIXGeneral.ttf\n",
      "STIXSizeFiveSym-----C:\\Users\\User\\anaconda3\\lib\\site-packages\\matplotlib\\mpl-data\\fonts\\ttf\\STIXSizFiveSymReg.ttf\n",
      "cmr10-----C:\\Users\\User\\anaconda3\\lib\\site-packages\\matplotlib\\mpl-data\\fonts\\ttf\\cmr10.ttf\n",
      "STIXNonUnicode-----C:\\Users\\User\\anaconda3\\lib\\site-packages\\matplotlib\\mpl-data\\fonts\\ttf\\STIXNonUniBol.ttf\n",
      "DejaVu Serif Display-----C:\\Users\\User\\anaconda3\\lib\\site-packages\\matplotlib\\mpl-data\\fonts\\ttf\\DejaVuSerifDisplay.ttf\n",
      "DejaVu Sans-----C:\\Users\\User\\anaconda3\\lib\\site-packages\\matplotlib\\mpl-data\\fonts\\ttf\\DejaVuSans-Oblique.ttf\n",
      "DejaVu Sans Mono-----C:\\Users\\User\\anaconda3\\lib\\site-packages\\matplotlib\\mpl-data\\fonts\\ttf\\DejaVuSansMono-BoldOblique.ttf\n",
      "DejaVu Sans Display-----C:\\Users\\User\\anaconda3\\lib\\site-packages\\matplotlib\\mpl-data\\fonts\\ttf\\DejaVuSansDisplay.ttf\n",
      "STIXNonUnicode-----C:\\Users\\User\\anaconda3\\lib\\site-packages\\matplotlib\\mpl-data\\fonts\\ttf\\STIXNonUniIta.ttf\n",
      "STIXGeneral-----C:\\Users\\User\\anaconda3\\lib\\site-packages\\matplotlib\\mpl-data\\fonts\\ttf\\STIXGeneralBolIta.ttf\n",
      "cmex10-----C:\\Users\\User\\anaconda3\\lib\\site-packages\\matplotlib\\mpl-data\\fonts\\ttf\\cmex10.ttf\n",
      "DejaVu Sans Mono-----C:\\Users\\User\\anaconda3\\lib\\site-packages\\matplotlib\\mpl-data\\fonts\\ttf\\DejaVuSansMono-Oblique.ttf\n",
      "Franklin Gothic Book-----C:\\Windows\\Fonts\\FRABKIT.TTF\n",
      "Microsoft Tai Le-----C:\\Windows\\Fonts\\taileb.ttf\n",
      "Nirmala UI-----C:\\Windows\\Fonts\\Nirmala.ttf\n",
      "Perpetua-----C:\\Windows\\Fonts\\PERBI___.TTF\n",
      "Arial-----C:\\Windows\\Fonts\\arial.ttf\n",
      "Goudy Old Style-----C:\\Windows\\Fonts\\GOUDOS.TTF\n",
      "Malgun Gothic-----C:\\Windows\\Fonts\\malgunsl.ttf\n",
      "Berlin Sans FB-----C:\\Windows\\Fonts\\BRLNSB.TTF\n",
      "Bookman Old Style-----C:\\Windows\\Fonts\\BOOKOS.TTF\n",
      "Century Gothic-----C:\\Windows\\Fonts\\GOTHICI.TTF\n",
      "Microsoft Sans Serif-----C:\\Windows\\Fonts\\micross.ttf\n",
      "Britannic Bold-----C:\\Windows\\Fonts\\BRITANIC.TTF\n",
      "Rage Italic-----C:\\Windows\\Fonts\\RAGE.TTF\n",
      "Tahoma-----C:\\Windows\\Fonts\\tahomabd.ttf\n",
      "Ami R-----C:\\Windows\\Fonts\\HMKMAMI.TTF\n",
      "Gill Sans MT Ext Condensed Bold-----C:\\Windows\\Fonts\\GLSNECB.TTF\n",
      "Tempus Sans ITC-----C:\\Windows\\Fonts\\TEMPSITC.TTF\n",
      "Corbel-----C:\\Windows\\Fonts\\corbel.ttf\n",
      "Bodoni MT-----C:\\Windows\\Fonts\\BOD_I.TTF\n",
      "Sitka Small-----C:\\Windows\\Fonts\\Sitka.ttc\n",
      "Segoe Print-----C:\\Windows\\Fonts\\segoeprb.ttf\n",
      "Copperplate Gothic Bold-----C:\\Windows\\Fonts\\COPRGTB.TTF\n",
      "Century Schoolbook-----C:\\Windows\\Fonts\\SCHLBKB.TTF\n",
      "Ink Free-----C:\\Windows\\Fonts\\Inkfree.ttf\n",
      "Palatino Linotype-----C:\\Windows\\Fonts\\palabi.ttf\n",
      "Snap ITC-----C:\\Windows\\Fonts\\SNAP____.TTF\n",
      "Segoe UI-----C:\\Windows\\Fonts\\seguibli.ttf\n",
      "Pristina-----C:\\Windows\\Fonts\\PRISTINA.TTF\n",
      "Microsoft JhengHei-----C:\\Windows\\Fonts\\msjhl.ttc\n",
      "Gill Sans MT-----C:\\Windows\\Fonts\\GILBI___.TTF\n",
      "Microsoft Uighur-----C:\\Windows\\Fonts\\MSUIGHUR.TTF\n",
      "Lucida Sans-----C:\\Windows\\Fonts\\LSANSD.TTF\n",
      "Arial-----C:\\Windows\\Fonts\\ariblk.ttf\n",
      "Arial-----C:\\Windows\\Fonts\\ARIALN.TTF\n",
      "Book Antiqua-----C:\\Windows\\Fonts\\ANTQUAB.TTF\n",
      "Trebuchet MS-----C:\\Windows\\Fonts\\trebucit.ttf\n",
      "Corbel-----C:\\Windows\\Fonts\\corbelli.ttf\n",
      "Segoe UI-----C:\\Windows\\Fonts\\seguibl.ttf\n",
      "Calibri-----C:\\Windows\\Fonts\\calibrib.ttf\n",
      "Baskerville Old Face-----C:\\Windows\\Fonts\\BASKVILL.TTF\n",
      "Leelawadee-----C:\\Windows\\Fonts\\LEELAWDB.TTF\n",
      "Franklin Gothic Heavy-----C:\\Windows\\Fonts\\FRAHV.TTF\n",
      "Cambria-----C:\\Windows\\Fonts\\cambriab.ttf\n",
      "Segoe UI-----C:\\Windows\\Fonts\\segoeuii.ttf\n",
      "Wingdings-----C:\\Windows\\Fonts\\wingding.ttf\n",
      "Wingdings 2-----C:\\Windows\\Fonts\\WINGDNG2.TTF\n",
      "Imprint MT Shadow-----C:\\Windows\\Fonts\\IMPRISHA.TTF\n",
      "Niagara Engraved-----C:\\Windows\\Fonts\\NIAGENG.TTF\n",
      "Rockwell-----C:\\Windows\\Fonts\\ROCKBI.TTF\n",
      "Malgun Gothic-----C:\\Windows\\Fonts\\malgunbd.ttf\n",
      "Elephant-----C:\\Windows\\Fonts\\ELEPHNT.TTF\n",
      "Microsoft New Tai Lue-----C:\\Windows\\Fonts\\ntailub.ttf\n",
      "Poor Richard-----C:\\Windows\\Fonts\\POORICH.TTF\n",
      "Ebrima-----C:\\Windows\\Fonts\\ebrima.ttf\n",
      "Rockwell-----C:\\Windows\\Fonts\\ROCK.TTF\n",
      "Gill Sans Ultra Bold Condensed-----C:\\Windows\\Fonts\\GILLUBCD.TTF\n",
      "Lucida Fax-----C:\\Windows\\Fonts\\LFAX.TTF\n",
      "Hancom MalangMalang-----C:\\Windows\\Fonts\\MalangmalangR.ttf\n",
      "Bodoni MT-----C:\\Windows\\Fonts\\BOD_CB.TTF\n",
      "MoeumT R-----C:\\Windows\\Fonts\\HMFMMUEX.TTC\n",
      "HYGothic-Extra-----C:\\Windows\\Fonts\\H2GTRE.TTF\n",
      "Microsoft New Tai Lue-----C:\\Windows\\Fonts\\ntailu.ttf\n",
      "Engravers MT-----C:\\Windows\\Fonts\\ENGR.TTF\n",
      "Haan Wing2-----C:\\Windows\\Fonts\\HANWing2.ttf\n",
      "Gadugi-----C:\\Windows\\Fonts\\gadugi.ttf\n",
      "Leelawadee UI-----C:\\Windows\\Fonts\\LeelUIsl.ttf\n",
      "Consolas-----C:\\Windows\\Fonts\\consola.ttf\n",
      "Wide Latin-----C:\\Windows\\Fonts\\LATINWD.TTF\n",
      "Leelawadee UI-----C:\\Windows\\Fonts\\LeelawUI.ttf\n",
      "Segoe UI-----C:\\Windows\\Fonts\\seguisb.ttf\n",
      "Tw Cen MT-----C:\\Windows\\Fonts\\TCM_____.TTF\n",
      "Gadugi-----C:\\Windows\\Fonts\\gadugib.ttf\n",
      "Segoe UI-----C:\\Windows\\Fonts\\seguisbi.ttf\n",
      "Freestyle Script-----C:\\Windows\\Fonts\\FREESCPT.TTF\n",
      "Tw Cen MT-----C:\\Windows\\Fonts\\TCMI____.TTF\n",
      "HYPMokGak-Bold-----C:\\Windows\\Fonts\\H2MKPB.TTF\n",
      "Perpetua Titling MT-----C:\\Windows\\Fonts\\PERTIBD.TTF\n",
      "French Script MT-----C:\\Windows\\Fonts\\FRSCRIPT.TTF\n",
      "Segoe UI-----C:\\Windows\\Fonts\\seguili.ttf\n",
      "Eras Bold ITC-----C:\\Windows\\Fonts\\ERASBD.TTF\n",
      "Arial-----C:\\Windows\\Fonts\\ARIALNBI.TTF\n",
      "Algerian-----C:\\Windows\\Fonts\\ALGER.TTF\n",
      "Script MT Bold-----C:\\Windows\\Fonts\\SCRIPTBL.TTF\n",
      "Segoe UI Historic-----C:\\Windows\\Fonts\\seguihis.ttf\n",
      "Franklin Gothic Medium Cond-----C:\\Windows\\Fonts\\FRAMDCN.TTF\n",
      "Myanmar Text-----C:\\Windows\\Fonts\\mmrtext.ttf\n",
      "Microsoft Himalaya-----C:\\Windows\\Fonts\\himalaya.ttf\n",
      "Brush Script MT-----C:\\Windows\\Fonts\\BRUSHSCI.TTF\n",
      "Han Santteut Dotum-----C:\\Windows\\Fonts\\HanSantteutDotum-Bold.ttf\n",
      "Arial-----C:\\Windows\\Fonts\\ariali.ttf\n",
      "Hancom Gothic-----C:\\Windows\\Fonts\\Hancom Gothic Bold.ttf\n",
      "Calisto MT-----C:\\Windows\\Fonts\\CALISTBI.TTF\n",
      "Consolas-----C:\\Windows\\Fonts\\consolaz.ttf\n",
      "Palatino Linotype-----C:\\Windows\\Fonts\\palai.ttf\n",
      "Franklin Gothic Demi-----C:\\Windows\\Fonts\\FRADMIT.TTF\n",
      "Dubai-----C:\\Windows\\Fonts\\DUBAI-MEDIUM.TTF\n",
      "Bodoni MT-----C:\\Windows\\Fonts\\BOD_BLAI.TTF\n",
      "Ravie-----C:\\Windows\\Fonts\\RAVIE.TTF\n",
      "HCR Batang-----C:\\Windows\\Fonts\\HANBatangB.ttf\n",
      "Century-----C:\\Windows\\Fonts\\CENTURY.TTF\n",
      "Lucida Console-----C:\\Windows\\Fonts\\lucon.ttf\n",
      "Bernard MT Condensed-----C:\\Windows\\Fonts\\BERNHC.TTF\n",
      "Segoe UI Emoji-----C:\\Windows\\Fonts\\seguiemj.ttf\n",
      "Rockwell-----C:\\Windows\\Fonts\\ROCKB.TTF\n",
      "Berlin Sans FB-----C:\\Windows\\Fonts\\BRLNSR.TTF\n",
      "Yu Gothic-----C:\\Windows\\Fonts\\YuGothL.ttc\n",
      "Lucida Sans-----C:\\Windows\\Fonts\\LSANS.TTF\n",
      "Agency FB-----C:\\Windows\\Fonts\\AGENCYR.TTF\n",
      "Lucida Handwriting-----C:\\Windows\\Fonts\\LHANDW.TTF\n",
      "Microsoft YaHei-----C:\\Windows\\Fonts\\msyh.ttc\n",
      "Microsoft YaHei-----C:\\Windows\\Fonts\\msyhl.ttc\n",
      "Georgia-----C:\\Windows\\Fonts\\georgiaz.ttf\n",
      "Wingdings 3-----C:\\Windows\\Fonts\\WINGDNG3.TTF\n",
      "Curlz MT-----C:\\Windows\\Fonts\\CURLZ___.TTF\n",
      "Tw Cen MT Condensed Extra Bold-----C:\\Windows\\Fonts\\TCCEB.TTF\n",
      "HCR Batang Ext-----C:\\Windows\\Fonts\\HANBatangExt.ttf\n",
      "HYGraphic-Medium-----C:\\Windows\\Fonts\\H2GPRM.TTF\n",
      "Franklin Gothic Book-----C:\\Windows\\Fonts\\FRABK.TTF\n",
      "Bodoni MT-----C:\\Windows\\Fonts\\BOD_CR.TTF\n",
      "Rockwell-----C:\\Windows\\Fonts\\ROCKI.TTF\n",
      "Nirmala UI-----C:\\Windows\\Fonts\\NirmalaB.ttf\n",
      "Comic Sans MS-----C:\\Windows\\Fonts\\comic.ttf\n",
      "Lucida Sans Typewriter-----C:\\Windows\\Fonts\\LTYPEB.TTF\n",
      "Dubai-----C:\\Windows\\Fonts\\DUBAI-LIGHT.TTF\n",
      "Franklin Gothic Demi-----C:\\Windows\\Fonts\\FRADM.TTF\n",
      "Courier New-----C:\\Windows\\Fonts\\cour.ttf\n",
      "Bodoni MT-----C:\\Windows\\Fonts\\BOD_BI.TTF\n",
      "HCR Batang ExtB-----C:\\Windows\\Fonts\\HANBatangExtBB.ttf\n",
      "Bell MT-----C:\\Windows\\Fonts\\BELLI.TTF\n",
      "Bell MT-----C:\\Windows\\Fonts\\BELLB.TTF\n",
      "Garamond-----C:\\Windows\\Fonts\\GARA.TTF\n",
      "HYGungSo-Bold-----C:\\Windows\\Fonts\\H2GSRB.TTF\n",
      "Book Antiqua-----C:\\Windows\\Fonts\\ANTQUABI.TTF\n",
      "Rockwell Condensed-----C:\\Windows\\Fonts\\ROCC____.TTF\n",
      "Vladimir Script-----C:\\Windows\\Fonts\\VLADIMIR.TTF\n",
      "Gigi-----C:\\Windows\\Fonts\\GIGI.TTF\n",
      "Informal Roman-----C:\\Windows\\Fonts\\INFROMAN.TTF\n",
      "SimSun-----C:\\Windows\\Fonts\\simsun.ttc\n",
      "Segoe UI-----C:\\Windows\\Fonts\\segoeuil.ttf\n",
      "Verdana-----C:\\Windows\\Fonts\\verdanai.ttf\n",
      "Eras Medium ITC-----C:\\Windows\\Fonts\\ERASMD.TTF\n",
      "Modern No. 20-----C:\\Windows\\Fonts\\MOD20.TTF\n",
      "HCR Dotum Ext-----C:\\Windows\\Fonts\\HANDotumExt.ttf\n",
      "Comic Sans MS-----C:\\Windows\\Fonts\\comici.ttf\n",
      "Segoe Script-----C:\\Windows\\Fonts\\segoescb.ttf\n",
      "MS Reference Specialty-----C:\\Windows\\Fonts\\REFSPCL.TTF\n",
      "Felix Titling-----C:\\Windows\\Fonts\\FELIXTI.TTF\n",
      "Tw Cen MT-----C:\\Windows\\Fonts\\TCB_____.TTF\n",
      "Hancom MalangMalang-----C:\\Windows\\Fonts\\MalangmalangB.ttf\n",
      "HCR Dotum-----C:\\Windows\\Fonts\\HANDotum.ttf\n",
      "Dubai-----C:\\Windows\\Fonts\\DUBAI-BOLD.TTF\n",
      "Garamond-----C:\\Windows\\Fonts\\GARAIT.TTF\n",
      "Eras Light ITC-----C:\\Windows\\Fonts\\ERASLGHT.TTF\n",
      "Arial-----C:\\Windows\\Fonts\\arialbi.ttf\n",
      "Mistral-----C:\\Windows\\Fonts\\MISTRAL.TTF\n",
      "Magic R-----C:\\Windows\\Fonts\\HMKMMAG.TTF\n",
      "Calisto MT-----C:\\Windows\\Fonts\\CALIST.TTF\n",
      "Old English Text MT-----C:\\Windows\\Fonts\\OLDENGL.TTF\n",
      "Agency FB-----C:\\Windows\\Fonts\\AGENCYB.TTF\n",
      "Papyrus-----C:\\Windows\\Fonts\\PAPYRUS.TTF\n",
      "Colonna MT-----C:\\Windows\\Fonts\\COLONNA.TTF\n",
      "Rockwell Extra Bold-----C:\\Windows\\Fonts\\ROCKEB.TTF\n",
      "HYShortSamul-Medium-----C:\\Windows\\Fonts\\H2SA1M.TTF\n",
      "Goudy Old Style-----C:\\Windows\\Fonts\\GOUDOSB.TTF\n",
      "Edwardian Script ITC-----C:\\Windows\\Fonts\\ITCEDSCR.TTF\n",
      "NewJumja-----C:\\Windows\\Fonts\\JUMJA.TTF\n",
      "Berlin Sans FB Demi-----C:\\Windows\\Fonts\\BRLNSDB.TTF\n",
      "Candara-----C:\\Windows\\Fonts\\Candaral.ttf\n",
      "Calibri-----C:\\Windows\\Fonts\\calibri.ttf\n",
      "Yu Gothic-----C:\\Windows\\Fonts\\YuGothB.ttc\n",
      "Sitka Small-----C:\\Windows\\Fonts\\SitkaZ.ttc\n",
      "Lucida Fax-----C:\\Windows\\Fonts\\LFAXDI.TTF\n",
      "Tw Cen MT Condensed-----C:\\Windows\\Fonts\\TCCM____.TTF\n",
      "Consolas-----C:\\Windows\\Fonts\\consolai.ttf\n",
      "Lucida Bright-----C:\\Windows\\Fonts\\LBRITED.TTF\n",
      "Arial-----C:\\Windows\\Fonts\\arialbd.ttf\n",
      "Cambria-----C:\\Windows\\Fonts\\cambria.ttc\n",
      "Century Schoolbook-----C:\\Windows\\Fonts\\CENSCBK.TTF\n",
      "Sitka Small-----C:\\Windows\\Fonts\\SitkaB.ttc\n",
      "Microsoft PhagsPa-----C:\\Windows\\Fonts\\phagspa.ttf\n",
      "HYHeadLine-Medium-----C:\\Windows\\Fonts\\H2HDRM.TTF\n",
      "Cambria-----C:\\Windows\\Fonts\\cambriaz.ttf\n",
      "Arial-----C:\\Windows\\Fonts\\ARIALNB.TTF\n",
      "Franklin Gothic Medium-----C:\\Windows\\Fonts\\framd.ttf\n",
      "Corbel-----C:\\Windows\\Fonts\\corbelb.ttf\n",
      "Bodoni MT-----C:\\Windows\\Fonts\\BOD_BLAR.TTF\n",
      "Calibri-----C:\\Windows\\Fonts\\calibril.ttf\n",
      "Webdings-----C:\\Windows\\Fonts\\webdings.ttf\n",
      "Californian FB-----C:\\Windows\\Fonts\\CALIFB.TTF\n",
      "High Tower Text-----C:\\Windows\\Fonts\\HTOWERT.TTF\n",
      "Tahoma-----C:\\Windows\\Fonts\\tahoma.ttf\n",
      "Segoe UI-----C:\\Windows\\Fonts\\seguisli.ttf\n",
      "Rockwell Condensed-----C:\\Windows\\Fonts\\ROCCB___.TTF\n",
      "Castellar-----C:\\Windows\\Fonts\\CASTELAR.TTF\n",
      "Verdana-----C:\\Windows\\Fonts\\verdanab.ttf\n",
      "Mongolian Baiti-----C:\\Windows\\Fonts\\monbaiti.ttf\n",
      "Franklin Gothic Heavy-----C:\\Windows\\Fonts\\FRAHVIT.TTF\n",
      "Lucida Bright-----C:\\Windows\\Fonts\\LBRITEDI.TTF\n",
      "Lucida Sans Typewriter-----C:\\Windows\\Fonts\\LTYPE.TTF\n",
      "Playbill-----C:\\Windows\\Fonts\\PLAYBILL.TTF\n",
      "Verdana-----C:\\Windows\\Fonts\\verdana.ttf\n",
      "Consolas-----C:\\Windows\\Fonts\\consolab.ttf\n",
      "Yet R-----C:\\Windows\\Fonts\\HMFMOLD.TTF\n",
      "Gabriola-----C:\\Windows\\Fonts\\Gabriola.ttf\n",
      "Segoe UI Symbol-----C:\\Windows\\Fonts\\seguisym.ttf\n",
      "Goudy Stout-----C:\\Windows\\Fonts\\GOUDYSTO.TTF\n",
      "Perpetua-----C:\\Windows\\Fonts\\PERB____.TTF\n",
      "Californian FB-----C:\\Windows\\Fonts\\CALIFR.TTF\n",
      "Showcard Gothic-----C:\\Windows\\Fonts\\SHOWG.TTF\n",
      "Comic Sans MS-----C:\\Windows\\Fonts\\comicbd.ttf\n",
      "Perpetua Titling MT-----C:\\Windows\\Fonts\\PERTILI.TTF\n",
      "HyhwpEQ-----C:\\Windows\\Fonts\\HYHWPEQ.TTF\n",
      "Tw Cen MT-----C:\\Windows\\Fonts\\TCBI____.TTF\n",
      "HCR Dotum-----C:\\Windows\\Fonts\\HANDotumB.ttf\n",
      "Dubai-----C:\\Windows\\Fonts\\DUBAI-REGULAR.TTF\n",
      "Adobe Devanagari-----C:\\Program Files (x86)\\Adobe\\Acrobat DC\\Resource\\Font\\AdobeDevanagari-Italic.otf\n",
      "Cambria-----C:\\Windows\\Fonts\\cambriai.ttf\n",
      "Harlow Solid Italic-----C:\\Windows\\Fonts\\HARLOWSI.TTF\n",
      "Haettenschweiler-----C:\\Windows\\Fonts\\HATTEN.TTF\n",
      "Gill Sans MT Condensed-----C:\\Windows\\Fonts\\GILC____.TTF\n",
      "Times New Roman-----C:\\Windows\\Fonts\\timesbd.ttf\n",
      "Ebrima-----C:\\Windows\\Fonts\\ebrimabd.ttf\n",
      "Franklin Gothic Demi Cond-----C:\\Windows\\Fonts\\FRADMCN.TTF\n",
      "Gill Sans MT-----C:\\Windows\\Fonts\\GILI____.TTF\n",
      "OCR A Extended-----C:\\Windows\\Fonts\\OCRAEXT.TTF\n",
      "Harrington-----C:\\Windows\\Fonts\\HARNGTON.TTF\n",
      "Vivaldi-----C:\\Windows\\Fonts\\VIVALDII.TTF\n",
      "Matura MT Script Capitals-----C:\\Windows\\Fonts\\MATURASC.TTF\n",
      "Centaur-----C:\\Windows\\Fonts\\CENTAUR.TTF\n",
      "Niagara Solid-----C:\\Windows\\Fonts\\NIAGSOL.TTF\n",
      "Lucida Sans Unicode-----C:\\Windows\\Fonts\\l_10646.ttf\n",
      "Trebuchet MS-----C:\\Windows\\Fonts\\trebucbd.ttf\n",
      "Candara-----C:\\Windows\\Fonts\\Candarab.ttf\n",
      "Bodoni MT-----C:\\Windows\\Fonts\\BOD_CBI.TTF\n",
      "Arial Rounded MT Bold-----C:\\Windows\\Fonts\\ARLRDBD.TTF\n",
      "Bodoni MT-----C:\\Windows\\Fonts\\BOD_PSTC.TTF\n",
      "Courier New-----C:\\Windows\\Fonts\\courbd.ttf\n",
      "Segoe MDL2 Assets-----C:\\Windows\\Fonts\\segmdl2.ttf\n",
      "Century Schoolbook-----C:\\Windows\\Fonts\\SCHLBKBI.TTF\n",
      "Han Santteut Dotum-----C:\\Windows\\Fonts\\HanSantteutDotum-Regular.ttf\n",
      "Lucida Fax-----C:\\Windows\\Fonts\\LFAXI.TTF\n",
      "Calibri-----C:\\Windows\\Fonts\\calibrii.ttf\n",
      "Magneto-----C:\\Windows\\Fonts\\MAGNETOB.TTF\n",
      "Constantia-----C:\\Windows\\Fonts\\constan.ttf\n",
      "Batang-----C:\\Windows\\Fonts\\batang.ttc\n",
      "Candara-----C:\\Windows\\Fonts\\Candarai.ttf\n",
      "Adobe Devanagari-----C:\\Program Files (x86)\\Adobe\\Acrobat DC\\Resource\\Font\\AdobeDevanagari-Bold.otf\n",
      "Kunstler Script-----C:\\Windows\\Fonts\\KUNSTLER.TTF\n",
      "HYMyeongJo-Extra-----C:\\Windows\\Fonts\\H2MJRE.TTF\n",
      "Tw Cen MT Condensed-----C:\\Windows\\Fonts\\TCCB____.TTF\n",
      "Bookman Old Style-----C:\\Windows\\Fonts\\BOOKOSBI.TTF\n",
      "Lucida Calligraphy-----C:\\Windows\\Fonts\\LCALLIG.TTF\n",
      "Courier New-----C:\\Windows\\Fonts\\courbi.ttf\n",
      "Segoe UI-----C:\\Windows\\Fonts\\segoeuib.ttf\n",
      "Palatino Linotype-----C:\\Windows\\Fonts\\pala.ttf\n",
      "Calisto MT-----C:\\Windows\\Fonts\\CALISTB.TTF\n",
      "Gloucester MT Extra Condensed-----C:\\Windows\\Fonts\\GLECB.TTF\n",
      "Viner Hand ITC-----C:\\Windows\\Fonts\\VINERITC.TTF\n",
      "Constantia-----C:\\Windows\\Fonts\\constanz.ttf\n",
      "HCR Batang-----C:\\Windows\\Fonts\\HANBatang.ttf\n",
      "Blackadder ITC-----C:\\Windows\\Fonts\\ITCBLKAD.TTF\n",
      "New Gulim-----C:\\Windows\\Fonts\\NGULIM.TTF\n",
      "Juice ITC-----C:\\Windows\\Fonts\\JUICE___.TTF\n",
      "HoloLens MDL2 Assets-----C:\\Windows\\Fonts\\holomdl2.ttf\n",
      "Lucida Bright-----C:\\Windows\\Fonts\\LBRITEI.TTF\n",
      "Kristen ITC-----C:\\Windows\\Fonts\\ITCKRIST.TTF\n",
      "Bodoni MT-----C:\\Windows\\Fonts\\BOD_B.TTF\n",
      "Georgia-----C:\\Windows\\Fonts\\georgiai.ttf\n",
      "Calisto MT-----C:\\Windows\\Fonts\\CALISTI.TTF\n",
      "HYPost-Medium-----C:\\Windows\\Fonts\\H2PORM.TTF\n",
      "HYSinMyeongJo-Medium-----C:\\Windows\\Fonts\\H2MJSM.TTF\n",
      "Lucida Sans Typewriter-----C:\\Windows\\Fonts\\LTYPEBO.TTF\n",
      "Onyx-----C:\\Windows\\Fonts\\ONYX.TTF\n",
      "Georgia-----C:\\Windows\\Fonts\\georgia.ttf\n",
      "Stencil-----C:\\Windows\\Fonts\\STENCIL.TTF\n",
      "Leelawadee UI-----C:\\Windows\\Fonts\\LeelaUIb.ttf\n",
      "MT Extra-----C:\\Windows\\Fonts\\MTEXTRA.TTF\n",
      "Sylfaen-----C:\\Windows\\Fonts\\sylfaen.ttf\n",
      "Candara-----C:\\Windows\\Fonts\\Candara.ttf\n",
      "Maiandra GD-----C:\\Windows\\Fonts\\MAIAN.TTF\n",
      "MS Gothic-----C:\\Windows\\Fonts\\msgothic.ttc\n",
      "Candara-----C:\\Windows\\Fonts\\Candaraz.ttf\n",
      "Courier New-----C:\\Windows\\Fonts\\couri.ttf\n",
      "SimSun-ExtB-----C:\\Windows\\Fonts\\simsunb.ttf\n",
      "Century Gothic-----C:\\Windows\\Fonts\\GOTHICBI.TTF\n",
      "Lucida Fax-----C:\\Windows\\Fonts\\LFAXD.TTF\n",
      "Jokerman-----C:\\Windows\\Fonts\\JOKERMAN.TTF\n",
      "Bradley Hand ITC-----C:\\Windows\\Fonts\\BRADHITC.TTF\n",
      "Bauhaus 93-----C:\\Windows\\Fonts\\BAUHS93.TTF\n",
      "Elephant-----C:\\Windows\\Fonts\\ELEPHNTI.TTF\n",
      "Microsoft YaHei-----C:\\Windows\\Fonts\\msyhbd.ttc\n",
      "Cooper Black-----C:\\Windows\\Fonts\\COOPBL.TTF\n",
      "Verdana-----C:\\Windows\\Fonts\\verdanaz.ttf\n",
      "Century Gothic-----C:\\Windows\\Fonts\\GOTHIC.TTF\n",
      "Javanese Text-----C:\\Windows\\Fonts\\javatext.ttf\n",
      "Segoe UI-----C:\\Windows\\Fonts\\segoeui.ttf\n",
      "Pyunji R-----C:\\Windows\\Fonts\\HMFMPYUN.TTF\n",
      "Headline R-----C:\\Windows\\Fonts\\HMKMRHD.TTF\n",
      "Californian FB-----C:\\Windows\\Fonts\\CALIFI.TTF\n",
      "Microsoft JhengHei-----C:\\Windows\\Fonts\\msjh.ttc\n",
      "Times New Roman-----C:\\Windows\\Fonts\\timesi.ttf\n",
      "Segoe UI-----C:\\Windows\\Fonts\\segoeuiz.ttf\n",
      "Times New Roman-----C:\\Windows\\Fonts\\timesbi.ttf\n",
      "Adobe Devanagari-----C:\\Program Files (x86)\\Adobe\\Acrobat DC\\Resource\\Font\\AdobeDevanagari-BoldItalic.otf\n",
      "Corbel-----C:\\Windows\\Fonts\\corbeli.ttf\n",
      "Franklin Gothic Medium-----C:\\Windows\\Fonts\\framdit.ttf\n",
      "High Tower Text-----C:\\Windows\\Fonts\\HTOWERTI.TTF\n",
      "Chiller-----C:\\Windows\\Fonts\\CHILLER.TTF\n",
      "Forte-----C:\\Windows\\Fonts\\FORTE.TTF\n",
      "Gill Sans MT-----C:\\Windows\\Fonts\\GIL_____.TTF\n",
      "Constantia-----C:\\Windows\\Fonts\\constanb.ttf\n",
      "Gill Sans Ultra Bold-----C:\\Windows\\Fonts\\GILSANUB.TTF\n",
      "Eras Demi ITC-----C:\\Windows\\Fonts\\ERASDEMI.TTF\n",
      "Parchment-----C:\\Windows\\Fonts\\PARCHM.TTF\n",
      "Segoe Print-----C:\\Windows\\Fonts\\segoepr.ttf\n",
      "HancomEQN-----C:\\Windows\\Fonts\\HancomEQN.ttf\n",
      "Myanmar Text-----C:\\Windows\\Fonts\\mmrtextb.ttf\n",
      "Garamond-----C:\\Windows\\Fonts\\GARABD.TTF\n",
      "Lucida Sans Typewriter-----C:\\Windows\\Fonts\\LTYPEO.TTF\n",
      "Segoe Script-----C:\\Windows\\Fonts\\segoesc.ttf\n",
      "Microsoft Tai Le-----C:\\Windows\\Fonts\\taile.ttf\n",
      "Perpetua-----C:\\Windows\\Fonts\\PERI____.TTF\n",
      "Calibri-----C:\\Windows\\Fonts\\calibriz.ttf\n",
      "Bodoni MT-----C:\\Windows\\Fonts\\BOD_CI.TTF\n",
      "Lucida Sans-----C:\\Windows\\Fonts\\LSANSDI.TTF\n",
      "Bell MT-----C:\\Windows\\Fonts\\BELL.TTF\n",
      "Perpetua-----C:\\Windows\\Fonts\\PER_____.TTF\n",
      "Microsoft JhengHei-----C:\\Windows\\Fonts\\msjhbd.ttc\n",
      "Bodoni MT-----C:\\Windows\\Fonts\\BOD_R.TTF\n",
      "Trebuchet MS-----C:\\Windows\\Fonts\\trebuc.ttf\n",
      "Georgia-----C:\\Windows\\Fonts\\georgiab.ttf\n",
      "Candara-----C:\\Windows\\Fonts\\Candarali.ttf\n",
      "Copperplate Gothic Light-----C:\\Windows\\Fonts\\COPRGTL.TTF\n",
      "Broadway-----C:\\Windows\\Fonts\\BROADW.TTF\n",
      "ZWAdobeF-----C:\\Windows\\Fonts\\ZWAdobeF.TTF\n",
      "Hancom Hoonminjeongeum_V-----C:\\Windows\\Fonts\\Hancom HMJE_V.ttf\n",
      "MS Reference Sans Serif-----C:\\Windows\\Fonts\\REFSAN.TTF\n",
      "Yu Gothic-----C:\\Windows\\Fonts\\YuGothR.ttc\n",
      "Times New Roman-----C:\\Windows\\Fonts\\times.ttf\n",
      "Microsoft PhagsPa-----C:\\Windows\\Fonts\\phagspab.ttf\n",
      "Monotype Corsiva-----C:\\Windows\\Fonts\\MTCORSVA.TTF\n",
      "HYGothic-Medium-----C:\\Windows\\Fonts\\H2GTRM.TTF\n",
      "Sitka Small-----C:\\Windows\\Fonts\\SitkaI.ttc\n",
      "Bahnschrift-----C:\\Windows\\Fonts\\bahnschrift.ttf\n",
      "Arial-----C:\\Windows\\Fonts\\ARIALNI.TTF\n",
      "Corbel-----C:\\Windows\\Fonts\\corbell.ttf\n",
      "Corbel-----C:\\Windows\\Fonts\\corbelz.ttf\n",
      "Palace Script MT-----C:\\Windows\\Fonts\\PALSCRI.TTF\n",
      "Nirmala UI-----C:\\Windows\\Fonts\\NirmalaS.ttf\n",
      "Bookshelf Symbol 7-----C:\\Windows\\Fonts\\BSSYM7.TTF\n",
      "HYPost-Light-----C:\\Windows\\Fonts\\H2PORL.TTF\n",
      "Gill Sans MT-----C:\\Windows\\Fonts\\GILB____.TTF\n",
      "Calibri-----C:\\Windows\\Fonts\\calibrili.ttf\n",
      "Constantia-----C:\\Windows\\Fonts\\constani.ttf\n",
      "Comic Sans MS-----C:\\Windows\\Fonts\\comicz.ttf\n",
      "Yu Gothic-----C:\\Windows\\Fonts\\YuGothM.ttc\n",
      "Symbol-----C:\\Windows\\Fonts\\symbol.ttf\n",
      "Bookman Old Style-----C:\\Windows\\Fonts\\BOOKOSB.TTF\n",
      "HCR Batang ExtB-----C:\\Windows\\Fonts\\HANBatangExtB.ttf\n",
      "Marlett-----C:\\Windows\\Fonts\\marlett.ttf\n",
      "Gulim-----C:\\Windows\\Fonts\\gulim.ttc\n",
      "Hancom Gothic-----C:\\Windows\\Fonts\\Hancom Gothic Regular.ttf\n",
      "Leelawadee-----C:\\Windows\\Fonts\\LEELAWAD.TTF\n",
      "Palatino Linotype-----C:\\Windows\\Fonts\\palab.ttf\n",
      "Lucida Sans-----C:\\Windows\\Fonts\\LSANSI.TTF\n",
      "Adobe Devanagari-----C:\\Program Files (x86)\\Adobe\\Acrobat DC\\Resource\\Font\\AdobeDevanagari-Regular.otf\n",
      "MS Outlook-----C:\\Windows\\Fonts\\OUTLOOK.TTF\n",
      "Impact-----C:\\Windows\\Fonts\\impact.ttf\n",
      "Microsoft Yi Baiti-----C:\\Windows\\Fonts\\msyi.ttf\n",
      "Century Gothic-----C:\\Windows\\Fonts\\GOTHICB.TTF\n",
      "Lucida Bright-----C:\\Windows\\Fonts\\LBRITE.TTF\n",
      "Century Schoolbook-----C:\\Windows\\Fonts\\SCHLBKI.TTF\n",
      "Bookman Old Style-----C:\\Windows\\Fonts\\BOOKOSI.TTF\n",
      "Trebuchet MS-----C:\\Windows\\Fonts\\trebucbi.ttf\n",
      "Goudy Old Style-----C:\\Windows\\Fonts\\GOUDOSI.TTF\n",
      "Segoe UI-----C:\\Windows\\Fonts\\segoeuisl.ttf\n",
      "Book Antiqua-----C:\\Windows\\Fonts\\ANTQUAI.TTF\n",
      "Malgun Gothic-----C:\\Windows\\Fonts\\malgun.ttf\n",
      "MingLiU-ExtB-----C:\\Windows\\Fonts\\mingliub.ttc\n",
      "Footlight MT Light-----C:\\Windows\\Fonts\\FTLTLT.TTF\n",
      "MV Boli-----C:\\Windows\\Fonts\\mvboli.ttf\n",
      "Book Antiqua-----C:\\Windows\\Fonts\\BKANT.TTF\n",
      "Microsoft Uighur-----C:\\Windows\\Fonts\\MSUIGHUB.TTF\n"
     ]
    }
   ],
   "source": [
    "for f in fm.fontManager.ttflist:\n",
    "    print(f.name, f.fname,sep='-----')  # 폰트이름, 폰트파일경로\n",
    "    #뭔가가 많다! 그만큼 폰트가 많다는 의미이다."
   ]
  },
  {
   "cell_type": "markdown",
   "metadata": {},
   "source": [
    "원하는 폰트명 찾기"
   ]
  },
  {
   "cell_type": "code",
   "execution_count": 5,
   "metadata": {
    "ExecuteTime": {
     "end_time": "2022-06-14T01:41:48.571954Z",
     "start_time": "2022-06-14T01:41:48.560022Z"
    }
   },
   "outputs": [
    {
     "data": {
      "text/plain": [
       "[('Malgun Gothic', 'C:\\\\Windows\\\\Fonts\\\\malgunsl.ttf'),\n",
       " ('Malgun Gothic', 'C:\\\\Windows\\\\Fonts\\\\malgunbd.ttf'),\n",
       " ('Malgun Gothic', 'C:\\\\Windows\\\\Fonts\\\\malgun.ttf')]"
      ]
     },
     "execution_count": 5,
     "metadata": {},
     "output_type": "execute_result"
    }
   ],
   "source": [
    "[(f.name,f.fname) for f in fm.fontManager.ttflist if 'malg' in f.name.lower()]  \n",
    "#mac : AppleGothic\n",
    "# 설정시 폰트 이름을 사용\n",
    "#맑은 고딕을 찾는 구문! 이처럼 하면 다른 폰트도 찾을 수 있겠지??"
   ]
  },
  {
   "cell_type": "markdown",
   "metadata": {},
   "source": [
    "## 폰트등 환경 설정하기 \n",
    "###  설정파일 변경\n",
    "- 한번만 하면 되므로 편리하다."
   ]
  },
  {
   "cell_type": "markdown",
   "metadata": {},
   "source": [
    "설정파일 경로찾기: `matplotlib.matplotlib_fname()`\n",
    "matplotlib 관련 전역 설정들을 찾아 바꿔준다.\n",
    "- 폰트 관련 설정\n",
    "```\n",
    "font.family:Malgun Gothic\n",
    "font.size:20\n",
    "axes.titlesize:30\n",
    "axes.labelsize:20  \n",
    "axes.unicode_minus:False\n",
    "xtick.labelsize:15\n",
    "ytick.labelsize:15 \n",
    "```"
   ]
  },
  {
   "cell_type": "code",
   "execution_count": 6,
   "metadata": {
    "ExecuteTime": {
     "end_time": "2022-06-14T01:42:15.953880Z",
     "start_time": "2022-06-14T01:42:15.942944Z"
    }
   },
   "outputs": [
    {
     "name": "stdout",
     "output_type": "stream",
     "text": [
      "C:\\Users\\User\\anaconda3\\lib\\site-packages\\matplotlib\\mpl-data\\matplotlibrc\n"
     ]
    }
   ],
   "source": [
    "print(mpl.matplotlib_fname())\n",
    "#경로가 뜬다. 이 경로는 matplotlib의 설정과 관련된 파일이다.\n",
    "#경로를 검색하고, 메모장을 통해 정보를 본다. 뭐 다른 앱으로 봐도 되고!\n",
    "#파일 열면 뭔가가 많이 나올 텐데...... ㅋㅋㅋㅋ 뭐 그때 알아도 되는 정보이긴 하다.\n",
    "#우리는 font-family를 맑은 고딕으로 바꾸었다.\n",
    "\n",
    "#그런 다음, axes.unicode_minus를 false로 바꾸었다. 이렇게 하면 한글설정 끝!!\n",
    "\n"
   ]
  },
  {
   "cell_type": "markdown",
   "metadata": {},
   "source": [
    "### 함수를 이용해 설정\n",
    "- `matplotlib.rcParam['설정'] = 값` 으로 변경\n",
    "- rcParam은 꽤 중요한 함수이므로, 예시를 잘 봐두자. 이 함수를 이용하면 귀찮게 설정 파일까지 들어갈 필요가 없다."
   ]
  },
  {
   "cell_type": "code",
   "execution_count": 13,
   "metadata": {
    "ExecuteTime": {
     "end_time": "2022-06-14T02:10:50.306933Z",
     "start_time": "2022-06-14T02:10:50.289975Z"
    }
   },
   "outputs": [],
   "source": [
    "import matplotlib as mpl\n",
    "from matplotlib import font_manager as fm\n",
    "\n",
    "# 한글 폰트 설정\n",
    "font_name = fm.FontProperties(fname=\"c:/Windows/Fonts/malgun.ttf\").get_name()\n",
    "\n",
    "# 폰트변경\n",
    "mpl.rcParams[\"font.family\"] = \"malgun gothic\"\n",
    "# 폰트 size변경\n",
    "mpl.rcParams[\"font.size\"] = 20\n",
    "# x, y 축의 label 크기 변경\n",
    "mpl.rcParams['axes.labelsize'] = 15\n",
    "# x, y 축의 tick(눈금) label 크기 변경\n",
    "mpl.rcParams['xtick.labelsize'] = 12\n",
    "mpl.rcParams['ytick.labelsize'] = 12\n",
    "\n",
    "# tick의 음수기호 '-' 가 깨지는 것 처리 (false로 하는 것이 맞다.)\n",
    "mpl.rcParams['axes.unicode_minus'] = False"
   ]
  },
  {
   "cell_type": "code",
   "execution_count": 14,
   "metadata": {
    "ExecuteTime": {
     "end_time": "2022-06-14T02:11:19.921348Z",
     "start_time": "2022-06-14T02:11:19.762317Z"
    }
   },
   "outputs": [
    {
     "data": {
      "image/png": "[encoded data removed]",
      "text/plain": [
       "<Figure size 432x288 with 1 Axes>"
      ]
     },
     "metadata": {
      "needs_background": "light"
     },
     "output_type": "display_data"
    }
   ],
   "source": [
    "import matplotlib.pyplot as plt\n",
    "plt.plot(range(-5,6))\n",
    "plt.xlabel(\"X값\")\n",
    "plt.ylabel(\"Y값\")\n",
    "plt.title('matplotlib 예제')\n",
    "plt.show()"
   ]
  },
  {
   "cell_type": "code",
   "execution_count": null,
   "metadata": {},
   "outputs": [],
   "source": []
  }
 ],
 "metadata": {
  "kernelspec": {
   "display_name": "Python 3",
   "language": "python",
   "name": "python3"
  },
  "language_info": {
   "codemirror_mode": {
    "name": "ipython",
    "version": 3
   },
   "file_extension": ".py",
   "mimetype": "text/x-python",
   "name": "python",
   "nbconvert_exporter": "python",
   "pygments_lexer": "ipython3",
   "version": "3.8.8"
  },
  "toc": {
   "base_numbering": 1,
   "nav_menu": {},
   "number_sections": true,
   "sideBar": true,
   "skip_h1_title": false,
   "title_cell": "Table of Contents",
   "title_sidebar": "Contents",
   "toc_cell": false,
   "toc_position": {},
   "toc_section_display": true,
   "toc_window_display": false
  },
  "varInspector": {
   "cols": {
    "lenName": 16,
    "lenType": 16,
    "lenVar": 40
   },
   "kernels_config": {
    "python": {
     "delete_cmd_postfix": "",
     "delete_cmd_prefix": "del ",
     "library": "var_list.py",
     "varRefreshCmd": "print(var_dic_list())"
    },
    "r": {
     "delete_cmd_postfix": ") ",
     "delete_cmd_prefix": "rm(",
     "library": "var_list.r",
     "varRefreshCmd": "cat(var_dic_list()) "
    }
   },
   "types_to_exclude": [
    "module",
    "function",
    "builtin_function_or_method",
    "instance",
    "_Feature"
   ],
   "window_display": false
  }
 },
 "nbformat": 4,
 "nbformat_minor": 2
}
